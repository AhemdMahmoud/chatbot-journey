{
  "cells": [
    {
      "cell_type": "code",
      "execution_count": null,
      "metadata": {
        "id": "yQjayozukBXK"
      },
      "outputs": [],
      "source": [
        "!pip uninstall -y huggingface_hub transformers\n",
        "!pip install -U setfit==1.1.0 transformers==4.44.0"
      ]
    },
    {
      "cell_type": "markdown",
      "metadata": {
        "id": "5KXYG-reuTb3"
      },
      "source": [
        "----------\n",
        "\n",
        "# Intent Detection | Text Classification\n",
        "\n",
        "----------\n"
      ]
    },
    {
      "cell_type": "code",
      "execution_count": 1,
      "metadata": {
        "id": "9K07VpT9khAd"
      },
      "outputs": [],
      "source": [
        "from datasets import DatasetDict, Dataset\n",
        "from setfit import SetFitModel, Trainer, TrainingArguments\n",
        "import random\n",
        "import shutil\n",
        "import pandas as pd\n",
        "\n",
        "save_to = \"/content/football_sft_model\""
      ]
    },
    {
      "cell_type": "markdown",
      "metadata": {
        "id": "HbP3gErWuBxA"
      },
      "source": [
        "## Dataset"
      ]
    },
    {
      "cell_type": "code",
      "execution_count": null,
      "metadata": {
        "id": "_HNF0XYmkoPc"
      },
      "outputs": [],
      "source": [
        "full_data = {\n",
        "    'greet-hi': [\n",
        "                            'Hi',\n",
        "                            'Hoooo',\n",
        "                            'Hello buddy',\n",
        "                            'Salut',\n",
        "                            'Hey',\n",
        "                            'Good morning',\n",
        "                            'Bonsoir',\n",
        "                            'Salut mon ami'\n",
        "                        ],\n",
        "    'greet-who_are_you': [\n",
        "                        'qui êtes-vous',\n",
        "                        'who are you',\n",
        "                        'how can you help me',\n",
        "                        \"comment pouvez vous m'aider\",\n",
        "                        'why do I need you',\n",
        "                        \"pourquoi j'ai besoin de toi\",\n",
        "                        'help please',\n",
        "                        \"Aidez-moi, s'il vous plaît\",\n",
        "                        'I can not understand you',\n",
        "                        'je ne te comprends pas'\n",
        "                    ],\n",
        "    'greet-good_bye': ['good bye',\n",
        "                    'au revoir',\n",
        "                    'See you later',\n",
        "                    'A plus tard',\n",
        "                    'stop',\n",
        "                    'arrêter',\n",
        "                    'exit',\n",
        "                    'sortir'],\n",
        "    'matches-team_next_match': [\n",
        "                        'when will be the matches of Liverpool',\n",
        "                        'quand auront lieu les matchs de Liverpool',\n",
        "                        'when will be the matches of Aston Villa',\n",
        "                        'quand auront lieu les matchs de Aston Villa',\n",
        "                        'man city matches',\n",
        "                        'Arsenal matches',\n",
        "                        'Arsenal matchs',\n",
        "                        'man city matchs',\n",
        "                        'what the calendar of chelsea matches',\n",
        "                        'à quoi correspond le calendrier de chelsea',\n",
        "                        'Will Liverpool play any matches soon',\n",
        "                        'Est-ce que Liverpool jouera bientôt des matchs',\n",
        "                        'Will Liverpool play any matches next days',\n",
        "                        'Est-ce que Liverpool jouera des matchs les jours prochains',\n",
        "                        'upcoming games for Manchester United',\n",
        "                        'prochains matchs de Tottenham Hotspur',\n",
        "                        'Barcelona match schedule',\n",
        "                        'Real Madrid fixtures',\n",
        "                        'when are the matches of Bayern Munich',\n",
        "                        'calendrier des matchs pour Paris Saint-Germain',\n",
        "                        'any upcoming fixtures for Juventus',\n",
        "                        'próximos partidos de Atletico Madrid',\n",
        "                        'which teams will AC Milan face next',\n",
        "                        'quels sont les prochains matchs de Borussia Dortmund'\n",
        "                    ],\n",
        "    'matches-match_time': [\n",
        "                            'when liverpool will play with man city',\n",
        "                            'quand liverpool jouera avec man city',\n",
        "                            'crystal place vs chelsea',\n",
        "                            'Bournemouth vs Brentford',\n",
        "                            'Bournemouth vs Brentford',\n",
        "                            'Norwich City vs Newcastle United',\n",
        "                            'Southampton vs West Ham United',\n",
        "                            'tell me the time of Everton vs Leicester City',\n",
        "                            'tell me the time of Wolverhampton vs Chelsea',\n",
        "                            'will Manchester United play with chelsea',\n",
        "                            'will Brentford play with Bournemouth',\n",
        "                            'Dis-moi le temps de Everton contre Leicester City',\n",
        "                            'dis-moi le temps de Wolverhampton vs Chelsea',\n",
        "                            'est-ce que Manchester United jouera avec chelsea',\n",
        "                            'est-ce que Brentford jouera avec Bournemouth'\n",
        "                        ],\n",
        "    'matches-match_result': [\n",
        "                            'what is the score of Brentford match',\n",
        "                            'what is the score of Wolverhampton match',\n",
        "                            'score of Everton match',\n",
        "                            'who won in Norwich City vs West Ham United match',\n",
        "                            'who won in Bournemouth vs West Ham United match',\n",
        "                            'who won in Liverpool vs Newcastle United match',\n",
        "                            'did Liverpool defeted man city',\n",
        "                            'Liverpool and West Ham result',\n",
        "                            'Chelsea and Norwich final result',\n",
        "                            'quel est le score du match Brentford',\n",
        "                            'quel est le score du match Wolverhampton',\n",
        "                            'score du match Everton',\n",
        "                            'qui a gagné le match Norwich City contre Norwich City',\n",
        "                            'qui a gagné le match Bournemouth contre West Ham United',\n",
        "                            'qui a gagné le match Liverpool contre Newcastle United',\n",
        "                            'est-ce que Liverpool a vaincu man city',\n",
        "                            'Résultat de Liverpool et West Ham',\n",
        "                            'Résultat final de Chelsea et Norwich'\n",
        "                        ]\n",
        "}"
      ]
    },
    {
      "cell_type": "code",
      "execution_count": 3,
      "metadata": {
        "id": "FV6kkavumG6U"
      },
      "outputs": [],
      "source": [
        "## ===============================\n",
        "## format the dataset\n",
        "## ===============================\n",
        "\n",
        "train_data, dev_data = [], []\n",
        "all_labels = list(full_data.keys())\n",
        "idx = 0\n",
        "\n",
        "for category, sentences in full_data.items():\n",
        "\n",
        "    random.Random(42).shuffle(sentences)\n",
        "    label_id = all_labels.index(category)\n",
        "\n",
        "    train_sentences = sentences[:-3]\n",
        "    dev_sentences = sentences[-3:]\n",
        "\n",
        "    for sentence in train_sentences:\n",
        "        train_data.append({\n",
        "            'idx': idx,\n",
        "            'sentence': sentence,\n",
        "            'label': label_id\n",
        "        })\n",
        "\n",
        "        idx += 1\n",
        "\n",
        "    for sentence in dev_sentences:\n",
        "        dev_data.append({\n",
        "            'idx': idx,\n",
        "            'sentence': sentence,\n",
        "            'label': label_id\n",
        "        })\n",
        "\n",
        "        idx += 1\n",
        "\n",
        "# shuffle the data\n",
        "random.Random(42).shuffle(train_data)\n",
        "random.Random(42).shuffle(dev_data)\n",
        "\n",
        "# create the full_dataset dictionary\n",
        "full_dataset = DatasetDict({\n",
        "    'train': Dataset.from_pandas(pd.DataFrame(train_data)),\n",
        "    'dev': Dataset.from_pandas(pd.DataFrame(dev_data))\n",
        "})"
      ]
    },
    {
      "cell_type": "code",
      "execution_count": 4,
      "metadata": {
        "colab": {
          "base_uri": "https://localhost:8080/"
        },
        "id": "sy8plg9jnrwh",
        "outputId": "c085540f-d9b5-4575-f212-c7acb16ea087"
      },
      "outputs": [
        {
          "data": {
            "text/plain": [
              "DatasetDict({\n",
              "    train: Dataset({\n",
              "        features: ['idx', 'sentence', 'label'],\n",
              "        num_rows: 65\n",
              "    })\n",
              "    dev: Dataset({\n",
              "        features: ['idx', 'sentence', 'label'],\n",
              "        num_rows: 18\n",
              "    })\n",
              "})"
            ]
          },
          "execution_count": 4,
          "metadata": {},
          "output_type": "execute_result"
        }
      ],
      "source": [
        "full_dataset"
      ]
    },
    {
      "cell_type": "code",
      "execution_count": 5,
      "metadata": {
        "colab": {
          "base_uri": "https://localhost:8080/"
        },
        "id": "fm8PQoK9oD7P",
        "outputId": "32cc49ea-ca4e-47d4-bdea-1990258fb7ac"
      },
      "outputs": [
        {
          "data": {
            "text/plain": [
              "{'idx': 81, 'sentence': 'what is the score of Brentford match', 'label': 5}"
            ]
          },
          "execution_count": 5,
          "metadata": {},
          "output_type": "execute_result"
        }
      ],
      "source": [
        "full_dataset[\"dev\"][6]"
      ]
    },
    {
      "cell_type": "code",
      "execution_count": 7,
      "metadata": {
        "colab": {
          "base_uri": "https://localhost:8080/"
        },
        "id": "HM8tt7hGocQB",
        "outputId": "7810fc52-397f-40ea-99e4-561ed8421066"
      },
      "outputs": [
        {
          "name": "stdout",
          "output_type": "stream",
          "text": [
            "Labels\n"
          ]
        },
        {
          "data": {
            "text/plain": [
              "['greet-hi',\n",
              " 'greet-who_are_you',\n",
              " 'greet-good_bye',\n",
              " 'matches-team_next_match',\n",
              " 'matches-match_time',\n",
              " 'matches-match_result']"
            ]
          },
          "execution_count": 7,
          "metadata": {},
          "output_type": "execute_result"
        }
      ],
      "source": [
        "print(\"Labels\")\n",
        "all_labels"
      ]
    },
    {
      "cell_type": "markdown",
      "metadata": {
        "id": "ffKytXJxolMZ"
      },
      "source": [
        "## Train the Model"
      ]
    },
    {
      "cell_type": "code",
      "execution_count": null,
      "metadata": {
        "id": "Iha4qRXDomu5"
      },
      "outputs": [],
      "source": [
        "## ===============================\n",
        "## Load a SetFit model from Hub\n",
        "## ===============================\n",
        "\n",
        "base_model = SetFitModel.from_pretrained(\n",
        "    \"sentence-transformers/paraphrase-multilingual-MiniLM-L12-v2\",\n",
        "    labels = all_labels,\n",
        ")"
      ]
    },
    {
      "cell_type": "code",
      "execution_count": null,
      "metadata": {
        "id": "IpTvLTbko94p"
      },
      "outputs": [],
      "source": [
        "args = TrainingArguments(\n",
        "    batch_size=4,\n",
        "    num_epochs=4,\n",
        "    logging_steps=10,\n",
        "    evaluation_strategy=\"epoch\",\n",
        "    save_strategy=\"epoch\",\n",
        "    load_best_model_at_end=True,\n",
        ")\n",
        "\n",
        "trainer = Trainer(\n",
        "    model=base_model,\n",
        "    args=args,\n",
        "    train_dataset=full_dataset[\"train\"],\n",
        "    eval_dataset=full_dataset[\"dev\"],\n",
        "    metric=\"accuracy\",\n",
        "    column_mapping={\"sentence\": \"text\", \"label\": \"label\"}\n",
        ")\n",
        "\n",
        "## ===============================\n",
        "## Train and Evaluate\n",
        "## ===============================\n",
        "trainer.train()"
      ]
    },
    {
      "cell_type": "code",
      "execution_count": null,
      "metadata": {
        "colab": {
          "base_uri": "https://localhost:8080/",
          "height": 101,
          "referenced_widgets": [
            "801452c300a4414ebe70e95cd0b197a9",
            "c272729b1f674ce39fa31a8e519e0422",
            "c4412957797042deb9717ce27c48ec5a",
            "25c8badfbdc84e14a0078cef0b46ba1c",
            "1bd6bf85a9864a229b49da7800a4280a",
            "5da08c1b5cde43a48b458c718626eda4",
            "be746b6c942440c4a93731d931f29f21",
            "10651b1083d4441fa16fe4a6f4bd830c",
            "89dae6f4e68e4a5699be320eac3c5643",
            "bbdc6239ae984237bb660254c40c8c52",
            "26893f1115ff4fcb93c8ca9e09f1e3c1"
          ]
        },
        "id": "WMJvGfcLrtyO",
        "outputId": "024c844d-921a-49d0-bbfa-348b0731c2a2"
      },
      "outputs": [
        {
          "name": "stderr",
          "output_type": "stream",
          "text": [
            "Applying column mapping to the evaluation dataset\n",
            "***** Running evaluation *****\n"
          ]
        },
        {
          "data": {
            "application/vnd.jupyter.widget-view+json": {
              "model_id": "801452c300a4414ebe70e95cd0b197a9",
              "version_major": 2,
              "version_minor": 0
            },
            "text/plain": [
              "Downloading builder script:   0%|          | 0.00/4.20k [00:00<?, ?B/s]"
            ]
          },
          "metadata": {},
          "output_type": "display_data"
        },
        {
          "name": "stdout",
          "output_type": "stream",
          "text": [
            "{'accuracy': 1.0}\n"
          ]
        }
      ],
      "source": [
        "metrics = trainer.evaluate(full_dataset[\"dev\"])\n",
        "print(metrics)"
      ]
    },
    {
      "cell_type": "code",
      "execution_count": null,
      "metadata": {
        "colab": {
          "base_uri": "https://localhost:8080/",
          "height": 35
        },
        "id": "Pfv0iEX0r2Rb",
        "outputId": "4de8b9d9-5175-4835-822c-4b7e474010e7"
      },
      "outputs": [
        {
          "data": {
            "application/vnd.google.colaboratory.intrinsic+json": {
              "type": "string"
            },
            "text/plain": [
              "'/content/football_sft_model.zip'"
            ]
          },
          "execution_count": 9,
          "metadata": {},
          "output_type": "execute_result"
        }
      ],
      "source": [
        "## ===============================\n",
        "## save to local\n",
        "## ===============================\n",
        "\n",
        "trainer.model.save_pretrained(save_to)\n",
        "\n",
        "## ===============================\n",
        "## zip the save_to dire\n",
        "## ===============================\n",
        "\n",
        "shutil.make_archive(save_to, 'zip', save_to)"
      ]
    },
    {
      "cell_type": "code",
      "execution_count": null,
      "metadata": {
        "colab": {
          "base_uri": "https://localhost:8080/",
          "height": 229,
          "referenced_widgets": [
            "0adc25735351475db8962e905bc77436",
            "e7f1bcac4a244b3d8581ca0fbb15de2f",
            "56142fbeee7f4485844082e4d2550415",
            "b6f5ec6d1ff4418d81de083f7940773b",
            "0e4eed8cd5b64a2cb056a965102f657b",
            "93a4b5b786054689b4584afe4602f334",
            "99cbb0617f674b4989a82adfbcc442e1",
            "d2a7a225b25d4e19a98967033419c7bc",
            "e13c9547629a446e9e732a89fca5c2ef",
            "776877daa379483c9ac886463ade9ef1",
            "f18982fe14084065ae4b3d5db9d977f9",
            "ca6ac328674d4390a31c1918bf35ca80",
            "5fecd52a390548699994b63b6be01d94",
            "0d8e00860f704ad089834f9eb0a1eb02",
            "e701b9531cd342e189450c3757947044",
            "ca0c8d9cccad4c0197e394a3972b9cad",
            "fdaad9d3e8094fd38510f449d3f1914f",
            "6cf7c02d9ee549cbb62f3ced0dcca30d",
            "5529911da12644b6ac80bbabd1e272cc",
            "4a9935b7710040ee928ed8e098ae0810",
            "0ddbd5c6105a413692f1dffe4a50a113",
            "c90ef87fb13c4984ae10d951e1292a90",
            "34800bcbe1594b509fa682fc74bdd959",
            "85fa1b16494848b3afca6403c93b6e20",
            "0368938fa5a14ad4a838453190ebad45",
            "52a9690bbe8b4324a346186de6caa36c",
            "1e268e153d084386b2d8de6d625f13a3",
            "6fdfc13374e848c5a5e2c9c4f00c736c",
            "c3b4c3a495a0422980b53e7067f85dd0",
            "0472d58b30b7407dbc14172af47beb1a",
            "933a66273ae441a18d373e2901561669",
            "c9a877ead28c4d259a8928770256be31",
            "3da313e7f17a49f1a1bbe30c940d43de",
            "9a96cebd64c24594be70c95a4938cc3b",
            "2c4a1726e85445089dbe60963ec6a436",
            "4bef206229a74b9f9fa60676f78d0a3d",
            "e8127454d5e14c8f861aefb44b795792",
            "ef3b24b041464590a231d9eb527f9376",
            "2f274077be5b42c9a74cf069094b51f2",
            "d1ffbbbeeabe433eafe8027f272f66ae",
            "3ec54e5a99234b6d8fb2019924adce86",
            "e42556207c924822b87db2f616c38914",
            "a5e6f07496fb42ab86e1547c74dda476",
            "5302bd2c8b7f4b05aa54510d61cebc6a",
            "9d735663a4be48fbb905a3236d3b4aca",
            "31f354eff1604a2b86f673673deff0e2",
            "511c9e300511410c8deeb0bc78b14e5c",
            "598c1ceb890f45d1aee344c21c59df29",
            "f40406df8c22425ab7ec6b0020c42895",
            "77b4f9f6b33c4854ba200ca7da02ca3d",
            "02321a720e6c4dc695c6c0da712d78d1",
            "a6434199c21244278566266d48a3e057",
            "25a5dbc90e164e6eb35319da09cdc69d",
            "15f02fd4ff804932b892291cfe537cc0",
            "d43302a562bb4ce0b88f3ef859f6fad5"
          ]
        },
        "id": "rTxpTt4_HSOk",
        "outputId": "a23ee245-ff12-4f3b-aa15-ef21030e936e"
      },
      "outputs": [
        {
          "data": {
            "application/vnd.jupyter.widget-view+json": {
              "model_id": "0adc25735351475db8962e905bc77436",
              "version_major": 2,
              "version_minor": 0
            },
            "text/plain": [
              "unigram.json:   0%|          | 0.00/14.8M [00:00<?, ?B/s]"
            ]
          },
          "metadata": {},
          "output_type": "display_data"
        },
        {
          "data": {
            "application/vnd.jupyter.widget-view+json": {
              "model_id": "ca6ac328674d4390a31c1918bf35ca80",
              "version_major": 2,
              "version_minor": 0
            },
            "text/plain": [
              "tokenizer.json:   0%|          | 0.00/17.1M [00:00<?, ?B/s]"
            ]
          },
          "metadata": {},
          "output_type": "display_data"
        },
        {
          "data": {
            "application/vnd.jupyter.widget-view+json": {
              "model_id": "34800bcbe1594b509fa682fc74bdd959",
              "version_major": 2,
              "version_minor": 0
            },
            "text/plain": [
              "model_head.pkl:   0%|          | 0.00/19.4k [00:00<?, ?B/s]"
            ]
          },
          "metadata": {},
          "output_type": "display_data"
        },
        {
          "data": {
            "application/vnd.jupyter.widget-view+json": {
              "model_id": "9a96cebd64c24594be70c95a4938cc3b",
              "version_major": 2,
              "version_minor": 0
            },
            "text/plain": [
              "model.safetensors:   0%|          | 0.00/471M [00:00<?, ?B/s]"
            ]
          },
          "metadata": {},
          "output_type": "display_data"
        },
        {
          "data": {
            "application/vnd.jupyter.widget-view+json": {
              "model_id": "9d735663a4be48fbb905a3236d3b4aca",
              "version_major": 2,
              "version_minor": 0
            },
            "text/plain": [
              "Upload 4 LFS files:   0%|          | 0/4 [00:00<?, ?it/s]"
            ]
          },
          "metadata": {},
          "output_type": "display_data"
        },
        {
          "data": {
            "application/vnd.google.colaboratory.intrinsic+json": {
              "type": "string"
            },
            "text/plain": [
              "CommitInfo(commit_url='https://huggingface.co/bakrianoo/botpress_football_sft_model/commit/a46bd28986737c930c3f6dc7b5d7f0aad691a4da', commit_message='Push model using huggingface_hub.', commit_description='', oid='a46bd28986737c930c3f6dc7b5d7f0aad691a4da', pr_url=None, pr_revision=None, pr_num=None)"
            ]
          },
          "execution_count": 10,
          "metadata": {},
          "output_type": "execute_result"
        }
      ],
      "source": [
        "trainer.model.push_to_hub(repo_id=\"botpress_football_sft_model\",\n",
        "                          private=True,\n",
        "                          token=\"your_token_here\")"
      ]
    },
    {
      "cell_type": "markdown",
      "metadata": {
        "id": "5IX7c_qesNOY"
      },
      "source": [
        "### Model Inference"
      ]
    },
    {
      "cell_type": "code",
      "execution_count": null,
      "metadata": {
        "id": "Xj87uiMXsU5c"
      },
      "outputs": [],
      "source": [
        "# load the finetunned model\n",
        "sft_model = SetFitModel.from_pretrained(\"bakrianoo/botpress_football_sft_model\", token=\"your_token\")"
      ]
    },
    {
      "cell_type": "code",
      "execution_count": null,
      "metadata": {
        "colab": {
          "base_uri": "https://localhost:8080/"
        },
        "id": "S2KYreGssgqd",
        "outputId": "145a292b-d052-48f6-c173-de5fd66f6d01"
      },
      "outputs": [
        {
          "name": "stdout",
          "output_type": "stream",
          "text": [
            "greet-hi\n"
          ]
        }
      ],
      "source": [
        "preds = sft_model.predict(\"Hi everybody\")\n",
        "\n",
        "print(preds)"
      ]
    },
    {
      "cell_type": "code",
      "execution_count": null,
      "metadata": {
        "colab": {
          "base_uri": "https://localhost:8080/"
        },
        "id": "9VIxI31Zdo7B",
        "outputId": "f03e8bea-7fe2-4b9f-ebce-94f80465287f"
      },
      "outputs": [
        {
          "name": "stdout",
          "output_type": "stream",
          "text": [
            "[0.9447020455963554, 0.016481113318798188, 0.009387945259545815, 0.009768482763498613, 0.008602172576037749, 0.011058240485764374]\n"
          ]
        }
      ],
      "source": [
        "preds = sft_model.predict_proba(\"Hi everybody\",).tolist()\n",
        "\n",
        "print(preds)"
      ]
    },
    {
      "cell_type": "markdown",
      "metadata": {
        "id": "mGeLbrVHuYT_"
      },
      "source": [
        "----------\n",
        "\n",
        "# Named Entity Recognition | Entity Detection\n",
        "\n",
        "----------\n"
      ]
    },
    {
      "cell_type": "code",
      "execution_count": null,
      "metadata": {
        "id": "dwDarcHxvIfJ"
      },
      "outputs": [],
      "source": [
        "!pip install gliner==0.2.7"
      ]
    },
    {
      "cell_type": "code",
      "execution_count": null,
      "metadata": {
        "id": "ClKHRLxjufqq"
      },
      "outputs": [],
      "source": [
        "from gliner import GLiNER\n",
        "import pprint\n",
        "\n",
        "# multilignual\n",
        "ner_model = GLiNER.from_pretrained(\"urchade/gliner_multi-v2.1\")\n",
        "\n",
        "# only english - small\n",
        "# ner_model = GLiNER.from_pretrained(\"urchade/gliner_small-v2.1\")\n",
        "\n",
        "# only english - large\n",
        "# ner_model = GLiNER.from_pretrained(\"urchade/gliner_large-v2.1\")"
      ]
    },
    {
      "cell_type": "code",
      "execution_count": null,
      "metadata": {
        "colab": {
          "base_uri": "https://localhost:8080/"
        },
        "id": "tu80MvlWv4vv",
        "outputId": "c279e171-dbc1-450f-f5fd-19168c2cc41f"
      },
      "outputs": [
        {
          "name": "stderr",
          "output_type": "stream",
          "text": [
            "Asking to truncate to max_length but no maximum length is provided and the model has no predefined maximum length. Default to no truncation.\n"
          ]
        },
        {
          "name": "stdout",
          "output_type": "stream",
          "text": [
            "[{'end': 23,\n",
            "  'label': 'team_name',\n",
            "  'score': 0.8178487420082092,\n",
            "  'start': 11,\n",
            "  'text': 'Norwich City'},\n",
            " {'end': 42,\n",
            "  'label': 'team_name',\n",
            "  'score': 0.7780051827430725,\n",
            "  'start': 27,\n",
            "  'text': 'West Ham United'}]\n",
            "\n",
            "[{'end': 28,\n",
            "  'label': 'team_name',\n",
            "  'score': 0.597097635269165,\n",
            "  'start': 22,\n",
            "  'text': 'الاهلي'},\n",
            " {'end': 38,\n",
            "  'label': 'team_name',\n",
            "  'score': 0.5380057692527771,\n",
            "  'start': 31,\n",
            "  'text': 'الزمالك'}]\n",
            "\n"
          ]
        }
      ],
      "source": [
        "samples = [\n",
        "    \"who won in Norwich City vs West Ham United match\",\n",
        "     \"من الذي فاز في مباراة الاهلي و الزمالك ؟\",\n",
        "]\n",
        "\n",
        "labels = [\"team_name\"]\n",
        "\n",
        "for text in samples:\n",
        "    entities = ner_model.predict_entities(text, labels)\n",
        "    pprint.pprint(entities)\n",
        "    print()\n"
      ]
    },
    {
      "cell_type": "code",
      "execution_count": null,
      "metadata": {
        "colab": {
          "base_uri": "https://localhost:8080/"
        },
        "id": "vIpPBbe4x4aQ",
        "outputId": "9ef9c710-1abf-4d99-cbc3-9b3c687d43d8"
      },
      "outputs": [
        {
          "name": "stdout",
          "output_type": "stream",
          "text": [
            "[{'end': 31,\n",
            "  'label': 'person_name',\n",
            "  'score': 0.8375915884971619,\n",
            "  'start': 14,\n",
            "  'text': 'Julian Nagelsmann'},\n",
            " {'end': 80,\n",
            "  'label': 'person_name',\n",
            "  'score': 0.9372616410255432,\n",
            "  'start': 68,\n",
            "  'text': 'Jonathan Tah'},\n",
            " {'end': 93,\n",
            "  'label': 'person_name',\n",
            "  'score': 0.9378184676170349,\n",
            "  'start': 85,\n",
            "  'text': 'Emre Can'},\n",
            " {'end': 161,\n",
            "  'label': 'event',\n",
            "  'score': 0.8798717856407166,\n",
            "  'start': 152,\n",
            "  'text': 'Euro 2024'}]\n"
          ]
        }
      ],
      "source": [
        "text = \"\"\"\n",
        "\n",
        "Germany coach Julian Nagelsmann made two changes to his lineup with Jonathan Tah and Emre Can coming in to the team to face an unchanged Spain in their Euro 2024 quarter-final clash on Friday.\n",
        "\n",
        "\"\"\".strip()\n",
        "\n",
        "labels = [\"team_name\", \"person_name\", \"event\"]\n",
        "\n",
        "entities = ner_model.predict_entities(text, labels)\n",
        "pprint.pprint(entities)"
      ]
    }
  ],
  "metadata": {
    "accelerator": "GPU",
    "colab": {
      "gpuType": "L4",
      "machine_shape": "hm",
      "provenance": []
    },
    "kernelspec": {
      "display_name": "Python 3",
      "name": "python3"
    },
    "language_info": {
      "name": "python"
    },
    "widgets": {
      "application/vnd.jupyter.widget-state+json": {
        "02321a720e6c4dc695c6c0da712d78d1": {
          "model_module": "@jupyter-widgets/controls",
          "model_module_version": "1.5.0",
          "model_name": "DescriptionStyleModel",
          "state": {
            "_model_module": "@jupyter-widgets/controls",
            "_model_module_version": "1.5.0",
            "_model_name": "DescriptionStyleModel",
            "_view_count": null,
            "_view_module": "@jupyter-widgets/base",
            "_view_module_version": "1.2.0",
            "_view_name": "StyleView",
            "description_width": ""
          }
        },
        "0368938fa5a14ad4a838453190ebad45": {
          "model_module": "@jupyter-widgets/controls",
          "model_module_version": "1.5.0",
          "model_name": "FloatProgressModel",
          "state": {
            "_dom_classes": [],
            "_model_module": "@jupyter-widgets/controls",
            "_model_module_version": "1.5.0",
            "_model_name": "FloatProgressModel",
            "_view_count": null,
            "_view_module": "@jupyter-widgets/controls",
            "_view_module_version": "1.5.0",
            "_view_name": "ProgressView",
            "bar_style": "success",
            "description": "",
            "description_tooltip": null,
            "layout": "IPY_MODEL_0472d58b30b7407dbc14172af47beb1a",
            "max": 19367,
            "min": 0,
            "orientation": "horizontal",
            "style": "IPY_MODEL_933a66273ae441a18d373e2901561669",
            "value": 19367
          }
        },
        "0472d58b30b7407dbc14172af47beb1a": {
          "model_module": "@jupyter-widgets/base",
          "model_module_version": "1.2.0",
          "model_name": "LayoutModel",
          "state": {
            "_model_module": "@jupyter-widgets/base",
            "_model_module_version": "1.2.0",
            "_model_name": "LayoutModel",
            "_view_count": null,
            "_view_module": "@jupyter-widgets/base",
            "_view_module_version": "1.2.0",
            "_view_name": "LayoutView",
            "align_content": null,
            "align_items": null,
            "align_self": null,
            "border": null,
            "bottom": null,
            "display": null,
            "flex": null,
            "flex_flow": null,
            "grid_area": null,
            "grid_auto_columns": null,
            "grid_auto_flow": null,
            "grid_auto_rows": null,
            "grid_column": null,
            "grid_gap": null,
            "grid_row": null,
            "grid_template_areas": null,
            "grid_template_columns": null,
            "grid_template_rows": null,
            "height": null,
            "justify_content": null,
            "justify_items": null,
            "left": null,
            "margin": null,
            "max_height": null,
            "max_width": null,
            "min_height": null,
            "min_width": null,
            "object_fit": null,
            "object_position": null,
            "order": null,
            "overflow": null,
            "overflow_x": null,
            "overflow_y": null,
            "padding": null,
            "right": null,
            "top": null,
            "visibility": null,
            "width": null
          }
        },
        "0adc25735351475db8962e905bc77436": {
          "model_module": "@jupyter-widgets/controls",
          "model_module_version": "1.5.0",
          "model_name": "HBoxModel",
          "state": {
            "_dom_classes": [],
            "_model_module": "@jupyter-widgets/controls",
            "_model_module_version": "1.5.0",
            "_model_name": "HBoxModel",
            "_view_count": null,
            "_view_module": "@jupyter-widgets/controls",
            "_view_module_version": "1.5.0",
            "_view_name": "HBoxView",
            "box_style": "",
            "children": [
              "IPY_MODEL_e7f1bcac4a244b3d8581ca0fbb15de2f",
              "IPY_MODEL_56142fbeee7f4485844082e4d2550415",
              "IPY_MODEL_b6f5ec6d1ff4418d81de083f7940773b"
            ],
            "layout": "IPY_MODEL_0e4eed8cd5b64a2cb056a965102f657b"
          }
        },
        "0d8e00860f704ad089834f9eb0a1eb02": {
          "model_module": "@jupyter-widgets/controls",
          "model_module_version": "1.5.0",
          "model_name": "FloatProgressModel",
          "state": {
            "_dom_classes": [],
            "_model_module": "@jupyter-widgets/controls",
            "_model_module_version": "1.5.0",
            "_model_name": "FloatProgressModel",
            "_view_count": null,
            "_view_module": "@jupyter-widgets/controls",
            "_view_module_version": "1.5.0",
            "_view_name": "ProgressView",
            "bar_style": "success",
            "description": "",
            "description_tooltip": null,
            "layout": "IPY_MODEL_5529911da12644b6ac80bbabd1e272cc",
            "max": 17083009,
            "min": 0,
            "orientation": "horizontal",
            "style": "IPY_MODEL_4a9935b7710040ee928ed8e098ae0810",
            "value": 17083009
          }
        },
        "0ddbd5c6105a413692f1dffe4a50a113": {
          "model_module": "@jupyter-widgets/base",
          "model_module_version": "1.2.0",
          "model_name": "LayoutModel",
          "state": {
            "_model_module": "@jupyter-widgets/base",
            "_model_module_version": "1.2.0",
            "_model_name": "LayoutModel",
            "_view_count": null,
            "_view_module": "@jupyter-widgets/base",
            "_view_module_version": "1.2.0",
            "_view_name": "LayoutView",
            "align_content": null,
            "align_items": null,
            "align_self": null,
            "border": null,
            "bottom": null,
            "display": null,
            "flex": null,
            "flex_flow": null,
            "grid_area": null,
            "grid_auto_columns": null,
            "grid_auto_flow": null,
            "grid_auto_rows": null,
            "grid_column": null,
            "grid_gap": null,
            "grid_row": null,
            "grid_template_areas": null,
            "grid_template_columns": null,
            "grid_template_rows": null,
            "height": null,
            "justify_content": null,
            "justify_items": null,
            "left": null,
            "margin": null,
            "max_height": null,
            "max_width": null,
            "min_height": null,
            "min_width": null,
            "object_fit": null,
            "object_position": null,
            "order": null,
            "overflow": null,
            "overflow_x": null,
            "overflow_y": null,
            "padding": null,
            "right": null,
            "top": null,
            "visibility": null,
            "width": null
          }
        },
        "0e4eed8cd5b64a2cb056a965102f657b": {
          "model_module": "@jupyter-widgets/base",
          "model_module_version": "1.2.0",
          "model_name": "LayoutModel",
          "state": {
            "_model_module": "@jupyter-widgets/base",
            "_model_module_version": "1.2.0",
            "_model_name": "LayoutModel",
            "_view_count": null,
            "_view_module": "@jupyter-widgets/base",
            "_view_module_version": "1.2.0",
            "_view_name": "LayoutView",
            "align_content": null,
            "align_items": null,
            "align_self": null,
            "border": null,
            "bottom": null,
            "display": null,
            "flex": null,
            "flex_flow": null,
            "grid_area": null,
            "grid_auto_columns": null,
            "grid_auto_flow": null,
            "grid_auto_rows": null,
            "grid_column": null,
            "grid_gap": null,
            "grid_row": null,
            "grid_template_areas": null,
            "grid_template_columns": null,
            "grid_template_rows": null,
            "height": null,
            "justify_content": null,
            "justify_items": null,
            "left": null,
            "margin": null,
            "max_height": null,
            "max_width": null,
            "min_height": null,
            "min_width": null,
            "object_fit": null,
            "object_position": null,
            "order": null,
            "overflow": null,
            "overflow_x": null,
            "overflow_y": null,
            "padding": null,
            "right": null,
            "top": null,
            "visibility": null,
            "width": null
          }
        },
        "10651b1083d4441fa16fe4a6f4bd830c": {
          "model_module": "@jupyter-widgets/base",
          "model_module_version": "1.2.0",
          "model_name": "LayoutModel",
          "state": {
            "_model_module": "@jupyter-widgets/base",
            "_model_module_version": "1.2.0",
            "_model_name": "LayoutModel",
            "_view_count": null,
            "_view_module": "@jupyter-widgets/base",
            "_view_module_version": "1.2.0",
            "_view_name": "LayoutView",
            "align_content": null,
            "align_items": null,
            "align_self": null,
            "border": null,
            "bottom": null,
            "display": null,
            "flex": null,
            "flex_flow": null,
            "grid_area": null,
            "grid_auto_columns": null,
            "grid_auto_flow": null,
            "grid_auto_rows": null,
            "grid_column": null,
            "grid_gap": null,
            "grid_row": null,
            "grid_template_areas": null,
            "grid_template_columns": null,
            "grid_template_rows": null,
            "height": null,
            "justify_content": null,
            "justify_items": null,
            "left": null,
            "margin": null,
            "max_height": null,
            "max_width": null,
            "min_height": null,
            "min_width": null,
            "object_fit": null,
            "object_position": null,
            "order": null,
            "overflow": null,
            "overflow_x": null,
            "overflow_y": null,
            "padding": null,
            "right": null,
            "top": null,
            "visibility": null,
            "width": null
          }
        },
        "15f02fd4ff804932b892291cfe537cc0": {
          "model_module": "@jupyter-widgets/base",
          "model_module_version": "1.2.0",
          "model_name": "LayoutModel",
          "state": {
            "_model_module": "@jupyter-widgets/base",
            "_model_module_version": "1.2.0",
            "_model_name": "LayoutModel",
            "_view_count": null,
            "_view_module": "@jupyter-widgets/base",
            "_view_module_version": "1.2.0",
            "_view_name": "LayoutView",
            "align_content": null,
            "align_items": null,
            "align_self": null,
            "border": null,
            "bottom": null,
            "display": null,
            "flex": null,
            "flex_flow": null,
            "grid_area": null,
            "grid_auto_columns": null,
            "grid_auto_flow": null,
            "grid_auto_rows": null,
            "grid_column": null,
            "grid_gap": null,
            "grid_row": null,
            "grid_template_areas": null,
            "grid_template_columns": null,
            "grid_template_rows": null,
            "height": null,
            "justify_content": null,
            "justify_items": null,
            "left": null,
            "margin": null,
            "max_height": null,
            "max_width": null,
            "min_height": null,
            "min_width": null,
            "object_fit": null,
            "object_position": null,
            "order": null,
            "overflow": null,
            "overflow_x": null,
            "overflow_y": null,
            "padding": null,
            "right": null,
            "top": null,
            "visibility": null,
            "width": null
          }
        },
        "1bd6bf85a9864a229b49da7800a4280a": {
          "model_module": "@jupyter-widgets/base",
          "model_module_version": "1.2.0",
          "model_name": "LayoutModel",
          "state": {
            "_model_module": "@jupyter-widgets/base",
            "_model_module_version": "1.2.0",
            "_model_name": "LayoutModel",
            "_view_count": null,
            "_view_module": "@jupyter-widgets/base",
            "_view_module_version": "1.2.0",
            "_view_name": "LayoutView",
            "align_content": null,
            "align_items": null,
            "align_self": null,
            "border": null,
            "bottom": null,
            "display": null,
            "flex": null,
            "flex_flow": null,
            "grid_area": null,
            "grid_auto_columns": null,
            "grid_auto_flow": null,
            "grid_auto_rows": null,
            "grid_column": null,
            "grid_gap": null,
            "grid_row": null,
            "grid_template_areas": null,
            "grid_template_columns": null,
            "grid_template_rows": null,
            "height": null,
            "justify_content": null,
            "justify_items": null,
            "left": null,
            "margin": null,
            "max_height": null,
            "max_width": null,
            "min_height": null,
            "min_width": null,
            "object_fit": null,
            "object_position": null,
            "order": null,
            "overflow": null,
            "overflow_x": null,
            "overflow_y": null,
            "padding": null,
            "right": null,
            "top": null,
            "visibility": null,
            "width": null
          }
        },
        "1e268e153d084386b2d8de6d625f13a3": {
          "model_module": "@jupyter-widgets/base",
          "model_module_version": "1.2.0",
          "model_name": "LayoutModel",
          "state": {
            "_model_module": "@jupyter-widgets/base",
            "_model_module_version": "1.2.0",
            "_model_name": "LayoutModel",
            "_view_count": null,
            "_view_module": "@jupyter-widgets/base",
            "_view_module_version": "1.2.0",
            "_view_name": "LayoutView",
            "align_content": null,
            "align_items": null,
            "align_self": null,
            "border": null,
            "bottom": null,
            "display": null,
            "flex": null,
            "flex_flow": null,
            "grid_area": null,
            "grid_auto_columns": null,
            "grid_auto_flow": null,
            "grid_auto_rows": null,
            "grid_column": null,
            "grid_gap": null,
            "grid_row": null,
            "grid_template_areas": null,
            "grid_template_columns": null,
            "grid_template_rows": null,
            "height": null,
            "justify_content": null,
            "justify_items": null,
            "left": null,
            "margin": null,
            "max_height": null,
            "max_width": null,
            "min_height": null,
            "min_width": null,
            "object_fit": null,
            "object_position": null,
            "order": null,
            "overflow": null,
            "overflow_x": null,
            "overflow_y": null,
            "padding": null,
            "right": null,
            "top": null,
            "visibility": null,
            "width": null
          }
        },
        "25a5dbc90e164e6eb35319da09cdc69d": {
          "model_module": "@jupyter-widgets/controls",
          "model_module_version": "1.5.0",
          "model_name": "ProgressStyleModel",
          "state": {
            "_model_module": "@jupyter-widgets/controls",
            "_model_module_version": "1.5.0",
            "_model_name": "ProgressStyleModel",
            "_view_count": null,
            "_view_module": "@jupyter-widgets/base",
            "_view_module_version": "1.2.0",
            "_view_name": "StyleView",
            "bar_color": null,
            "description_width": ""
          }
        },
        "25c8badfbdc84e14a0078cef0b46ba1c": {
          "model_module": "@jupyter-widgets/controls",
          "model_module_version": "1.5.0",
          "model_name": "HTMLModel",
          "state": {
            "_dom_classes": [],
            "_model_module": "@jupyter-widgets/controls",
            "_model_module_version": "1.5.0",
            "_model_name": "HTMLModel",
            "_view_count": null,
            "_view_module": "@jupyter-widgets/controls",
            "_view_module_version": "1.5.0",
            "_view_name": "HTMLView",
            "description": "",
            "description_tooltip": null,
            "layout": "IPY_MODEL_bbdc6239ae984237bb660254c40c8c52",
            "placeholder": "​",
            "style": "IPY_MODEL_26893f1115ff4fcb93c8ca9e09f1e3c1",
            "value": " 4.20k/4.20k [00:00&lt;00:00, 350kB/s]"
          }
        },
        "26893f1115ff4fcb93c8ca9e09f1e3c1": {
          "model_module": "@jupyter-widgets/controls",
          "model_module_version": "1.5.0",
          "model_name": "DescriptionStyleModel",
          "state": {
            "_model_module": "@jupyter-widgets/controls",
            "_model_module_version": "1.5.0",
            "_model_name": "DescriptionStyleModel",
            "_view_count": null,
            "_view_module": "@jupyter-widgets/base",
            "_view_module_version": "1.2.0",
            "_view_name": "StyleView",
            "description_width": ""
          }
        },
        "2c4a1726e85445089dbe60963ec6a436": {
          "model_module": "@jupyter-widgets/controls",
          "model_module_version": "1.5.0",
          "model_name": "HTMLModel",
          "state": {
            "_dom_classes": [],
            "_model_module": "@jupyter-widgets/controls",
            "_model_module_version": "1.5.0",
            "_model_name": "HTMLModel",
            "_view_count": null,
            "_view_module": "@jupyter-widgets/controls",
            "_view_module_version": "1.5.0",
            "_view_name": "HTMLView",
            "description": "",
            "description_tooltip": null,
            "layout": "IPY_MODEL_2f274077be5b42c9a74cf069094b51f2",
            "placeholder": "​",
            "style": "IPY_MODEL_d1ffbbbeeabe433eafe8027f272f66ae",
            "value": "model.safetensors: 100%"
          }
        },
        "2f274077be5b42c9a74cf069094b51f2": {
          "model_module": "@jupyter-widgets/base",
          "model_module_version": "1.2.0",
          "model_name": "LayoutModel",
          "state": {
            "_model_module": "@jupyter-widgets/base",
            "_model_module_version": "1.2.0",
            "_model_name": "LayoutModel",
            "_view_count": null,
            "_view_module": "@jupyter-widgets/base",
            "_view_module_version": "1.2.0",
            "_view_name": "LayoutView",
            "align_content": null,
            "align_items": null,
            "align_self": null,
            "border": null,
            "bottom": null,
            "display": null,
            "flex": null,
            "flex_flow": null,
            "grid_area": null,
            "grid_auto_columns": null,
            "grid_auto_flow": null,
            "grid_auto_rows": null,
            "grid_column": null,
            "grid_gap": null,
            "grid_row": null,
            "grid_template_areas": null,
            "grid_template_columns": null,
            "grid_template_rows": null,
            "height": null,
            "justify_content": null,
            "justify_items": null,
            "left": null,
            "margin": null,
            "max_height": null,
            "max_width": null,
            "min_height": null,
            "min_width": null,
            "object_fit": null,
            "object_position": null,
            "order": null,
            "overflow": null,
            "overflow_x": null,
            "overflow_y": null,
            "padding": null,
            "right": null,
            "top": null,
            "visibility": null,
            "width": null
          }
        },
        "31f354eff1604a2b86f673673deff0e2": {
          "model_module": "@jupyter-widgets/controls",
          "model_module_version": "1.5.0",
          "model_name": "HTMLModel",
          "state": {
            "_dom_classes": [],
            "_model_module": "@jupyter-widgets/controls",
            "_model_module_version": "1.5.0",
            "_model_name": "HTMLModel",
            "_view_count": null,
            "_view_module": "@jupyter-widgets/controls",
            "_view_module_version": "1.5.0",
            "_view_name": "HTMLView",
            "description": "",
            "description_tooltip": null,
            "layout": "IPY_MODEL_77b4f9f6b33c4854ba200ca7da02ca3d",
            "placeholder": "​",
            "style": "IPY_MODEL_02321a720e6c4dc695c6c0da712d78d1",
            "value": "Upload 4 LFS files: 100%"
          }
        },
        "34800bcbe1594b509fa682fc74bdd959": {
          "model_module": "@jupyter-widgets/controls",
          "model_module_version": "1.5.0",
          "model_name": "HBoxModel",
          "state": {
            "_dom_classes": [],
            "_model_module": "@jupyter-widgets/controls",
            "_model_module_version": "1.5.0",
            "_model_name": "HBoxModel",
            "_view_count": null,
            "_view_module": "@jupyter-widgets/controls",
            "_view_module_version": "1.5.0",
            "_view_name": "HBoxView",
            "box_style": "",
            "children": [
              "IPY_MODEL_85fa1b16494848b3afca6403c93b6e20",
              "IPY_MODEL_0368938fa5a14ad4a838453190ebad45",
              "IPY_MODEL_52a9690bbe8b4324a346186de6caa36c"
            ],
            "layout": "IPY_MODEL_1e268e153d084386b2d8de6d625f13a3"
          }
        },
        "3da313e7f17a49f1a1bbe30c940d43de": {
          "model_module": "@jupyter-widgets/controls",
          "model_module_version": "1.5.0",
          "model_name": "DescriptionStyleModel",
          "state": {
            "_model_module": "@jupyter-widgets/controls",
            "_model_module_version": "1.5.0",
            "_model_name": "DescriptionStyleModel",
            "_view_count": null,
            "_view_module": "@jupyter-widgets/base",
            "_view_module_version": "1.2.0",
            "_view_name": "StyleView",
            "description_width": ""
          }
        },
        "3ec54e5a99234b6d8fb2019924adce86": {
          "model_module": "@jupyter-widgets/base",
          "model_module_version": "1.2.0",
          "model_name": "LayoutModel",
          "state": {
            "_model_module": "@jupyter-widgets/base",
            "_model_module_version": "1.2.0",
            "_model_name": "LayoutModel",
            "_view_count": null,
            "_view_module": "@jupyter-widgets/base",
            "_view_module_version": "1.2.0",
            "_view_name": "LayoutView",
            "align_content": null,
            "align_items": null,
            "align_self": null,
            "border": null,
            "bottom": null,
            "display": null,
            "flex": null,
            "flex_flow": null,
            "grid_area": null,
            "grid_auto_columns": null,
            "grid_auto_flow": null,
            "grid_auto_rows": null,
            "grid_column": null,
            "grid_gap": null,
            "grid_row": null,
            "grid_template_areas": null,
            "grid_template_columns": null,
            "grid_template_rows": null,
            "height": null,
            "justify_content": null,
            "justify_items": null,
            "left": null,
            "margin": null,
            "max_height": null,
            "max_width": null,
            "min_height": null,
            "min_width": null,
            "object_fit": null,
            "object_position": null,
            "order": null,
            "overflow": null,
            "overflow_x": null,
            "overflow_y": null,
            "padding": null,
            "right": null,
            "top": null,
            "visibility": null,
            "width": null
          }
        },
        "4a9935b7710040ee928ed8e098ae0810": {
          "model_module": "@jupyter-widgets/controls",
          "model_module_version": "1.5.0",
          "model_name": "ProgressStyleModel",
          "state": {
            "_model_module": "@jupyter-widgets/controls",
            "_model_module_version": "1.5.0",
            "_model_name": "ProgressStyleModel",
            "_view_count": null,
            "_view_module": "@jupyter-widgets/base",
            "_view_module_version": "1.2.0",
            "_view_name": "StyleView",
            "bar_color": null,
            "description_width": ""
          }
        },
        "4bef206229a74b9f9fa60676f78d0a3d": {
          "model_module": "@jupyter-widgets/controls",
          "model_module_version": "1.5.0",
          "model_name": "FloatProgressModel",
          "state": {
            "_dom_classes": [],
            "_model_module": "@jupyter-widgets/controls",
            "_model_module_version": "1.5.0",
            "_model_name": "FloatProgressModel",
            "_view_count": null,
            "_view_module": "@jupyter-widgets/controls",
            "_view_module_version": "1.5.0",
            "_view_name": "ProgressView",
            "bar_style": "success",
            "description": "",
            "description_tooltip": null,
            "layout": "IPY_MODEL_3ec54e5a99234b6d8fb2019924adce86",
            "max": 470637416,
            "min": 0,
            "orientation": "horizontal",
            "style": "IPY_MODEL_e42556207c924822b87db2f616c38914",
            "value": 470637416
          }
        },
        "511c9e300511410c8deeb0bc78b14e5c": {
          "model_module": "@jupyter-widgets/controls",
          "model_module_version": "1.5.0",
          "model_name": "FloatProgressModel",
          "state": {
            "_dom_classes": [],
            "_model_module": "@jupyter-widgets/controls",
            "_model_module_version": "1.5.0",
            "_model_name": "FloatProgressModel",
            "_view_count": null,
            "_view_module": "@jupyter-widgets/controls",
            "_view_module_version": "1.5.0",
            "_view_name": "ProgressView",
            "bar_style": "success",
            "description": "",
            "description_tooltip": null,
            "layout": "IPY_MODEL_a6434199c21244278566266d48a3e057",
            "max": 4,
            "min": 0,
            "orientation": "horizontal",
            "style": "IPY_MODEL_25a5dbc90e164e6eb35319da09cdc69d",
            "value": 4
          }
        },
        "52a9690bbe8b4324a346186de6caa36c": {
          "model_module": "@jupyter-widgets/controls",
          "model_module_version": "1.5.0",
          "model_name": "HTMLModel",
          "state": {
            "_dom_classes": [],
            "_model_module": "@jupyter-widgets/controls",
            "_model_module_version": "1.5.0",
            "_model_name": "HTMLModel",
            "_view_count": null,
            "_view_module": "@jupyter-widgets/controls",
            "_view_module_version": "1.5.0",
            "_view_name": "HTMLView",
            "description": "",
            "description_tooltip": null,
            "layout": "IPY_MODEL_c9a877ead28c4d259a8928770256be31",
            "placeholder": "​",
            "style": "IPY_MODEL_3da313e7f17a49f1a1bbe30c940d43de",
            "value": " 19.4k/19.4k [00:00&lt;00:00, 48.0kB/s]"
          }
        },
        "5302bd2c8b7f4b05aa54510d61cebc6a": {
          "model_module": "@jupyter-widgets/controls",
          "model_module_version": "1.5.0",
          "model_name": "DescriptionStyleModel",
          "state": {
            "_model_module": "@jupyter-widgets/controls",
            "_model_module_version": "1.5.0",
            "_model_name": "DescriptionStyleModel",
            "_view_count": null,
            "_view_module": "@jupyter-widgets/base",
            "_view_module_version": "1.2.0",
            "_view_name": "StyleView",
            "description_width": ""
          }
        },
        "5529911da12644b6ac80bbabd1e272cc": {
          "model_module": "@jupyter-widgets/base",
          "model_module_version": "1.2.0",
          "model_name": "LayoutModel",
          "state": {
            "_model_module": "@jupyter-widgets/base",
            "_model_module_version": "1.2.0",
            "_model_name": "LayoutModel",
            "_view_count": null,
            "_view_module": "@jupyter-widgets/base",
            "_view_module_version": "1.2.0",
            "_view_name": "LayoutView",
            "align_content": null,
            "align_items": null,
            "align_self": null,
            "border": null,
            "bottom": null,
            "display": null,
            "flex": null,
            "flex_flow": null,
            "grid_area": null,
            "grid_auto_columns": null,
            "grid_auto_flow": null,
            "grid_auto_rows": null,
            "grid_column": null,
            "grid_gap": null,
            "grid_row": null,
            "grid_template_areas": null,
            "grid_template_columns": null,
            "grid_template_rows": null,
            "height": null,
            "justify_content": null,
            "justify_items": null,
            "left": null,
            "margin": null,
            "max_height": null,
            "max_width": null,
            "min_height": null,
            "min_width": null,
            "object_fit": null,
            "object_position": null,
            "order": null,
            "overflow": null,
            "overflow_x": null,
            "overflow_y": null,
            "padding": null,
            "right": null,
            "top": null,
            "visibility": null,
            "width": null
          }
        },
        "56142fbeee7f4485844082e4d2550415": {
          "model_module": "@jupyter-widgets/controls",
          "model_module_version": "1.5.0",
          "model_name": "FloatProgressModel",
          "state": {
            "_dom_classes": [],
            "_model_module": "@jupyter-widgets/controls",
            "_model_module_version": "1.5.0",
            "_model_name": "FloatProgressModel",
            "_view_count": null,
            "_view_module": "@jupyter-widgets/controls",
            "_view_module_version": "1.5.0",
            "_view_name": "ProgressView",
            "bar_style": "success",
            "description": "",
            "description_tooltip": null,
            "layout": "IPY_MODEL_d2a7a225b25d4e19a98967033419c7bc",
            "max": 14763260,
            "min": 0,
            "orientation": "horizontal",
            "style": "IPY_MODEL_e13c9547629a446e9e732a89fca5c2ef",
            "value": 14763260
          }
        },
        "598c1ceb890f45d1aee344c21c59df29": {
          "model_module": "@jupyter-widgets/controls",
          "model_module_version": "1.5.0",
          "model_name": "HTMLModel",
          "state": {
            "_dom_classes": [],
            "_model_module": "@jupyter-widgets/controls",
            "_model_module_version": "1.5.0",
            "_model_name": "HTMLModel",
            "_view_count": null,
            "_view_module": "@jupyter-widgets/controls",
            "_view_module_version": "1.5.0",
            "_view_name": "HTMLView",
            "description": "",
            "description_tooltip": null,
            "layout": "IPY_MODEL_15f02fd4ff804932b892291cfe537cc0",
            "placeholder": "​",
            "style": "IPY_MODEL_d43302a562bb4ce0b88f3ef859f6fad5",
            "value": " 4/4 [00:29&lt;00:00, 29.86s/it]"
          }
        },
        "5da08c1b5cde43a48b458c718626eda4": {
          "model_module": "@jupyter-widgets/base",
          "model_module_version": "1.2.0",
          "model_name": "LayoutModel",
          "state": {
            "_model_module": "@jupyter-widgets/base",
            "_model_module_version": "1.2.0",
            "_model_name": "LayoutModel",
            "_view_count": null,
            "_view_module": "@jupyter-widgets/base",
            "_view_module_version": "1.2.0",
            "_view_name": "LayoutView",
            "align_content": null,
            "align_items": null,
            "align_self": null,
            "border": null,
            "bottom": null,
            "display": null,
            "flex": null,
            "flex_flow": null,
            "grid_area": null,
            "grid_auto_columns": null,
            "grid_auto_flow": null,
            "grid_auto_rows": null,
            "grid_column": null,
            "grid_gap": null,
            "grid_row": null,
            "grid_template_areas": null,
            "grid_template_columns": null,
            "grid_template_rows": null,
            "height": null,
            "justify_content": null,
            "justify_items": null,
            "left": null,
            "margin": null,
            "max_height": null,
            "max_width": null,
            "min_height": null,
            "min_width": null,
            "object_fit": null,
            "object_position": null,
            "order": null,
            "overflow": null,
            "overflow_x": null,
            "overflow_y": null,
            "padding": null,
            "right": null,
            "top": null,
            "visibility": null,
            "width": null
          }
        },
        "5fecd52a390548699994b63b6be01d94": {
          "model_module": "@jupyter-widgets/controls",
          "model_module_version": "1.5.0",
          "model_name": "HTMLModel",
          "state": {
            "_dom_classes": [],
            "_model_module": "@jupyter-widgets/controls",
            "_model_module_version": "1.5.0",
            "_model_name": "HTMLModel",
            "_view_count": null,
            "_view_module": "@jupyter-widgets/controls",
            "_view_module_version": "1.5.0",
            "_view_name": "HTMLView",
            "description": "",
            "description_tooltip": null,
            "layout": "IPY_MODEL_fdaad9d3e8094fd38510f449d3f1914f",
            "placeholder": "​",
            "style": "IPY_MODEL_6cf7c02d9ee549cbb62f3ced0dcca30d",
            "value": "tokenizer.json: 100%"
          }
        },
        "6cf7c02d9ee549cbb62f3ced0dcca30d": {
          "model_module": "@jupyter-widgets/controls",
          "model_module_version": "1.5.0",
          "model_name": "DescriptionStyleModel",
          "state": {
            "_model_module": "@jupyter-widgets/controls",
            "_model_module_version": "1.5.0",
            "_model_name": "DescriptionStyleModel",
            "_view_count": null,
            "_view_module": "@jupyter-widgets/base",
            "_view_module_version": "1.2.0",
            "_view_name": "StyleView",
            "description_width": ""
          }
        },
        "6fdfc13374e848c5a5e2c9c4f00c736c": {
          "model_module": "@jupyter-widgets/base",
          "model_module_version": "1.2.0",
          "model_name": "LayoutModel",
          "state": {
            "_model_module": "@jupyter-widgets/base",
            "_model_module_version": "1.2.0",
            "_model_name": "LayoutModel",
            "_view_count": null,
            "_view_module": "@jupyter-widgets/base",
            "_view_module_version": "1.2.0",
            "_view_name": "LayoutView",
            "align_content": null,
            "align_items": null,
            "align_self": null,
            "border": null,
            "bottom": null,
            "display": null,
            "flex": null,
            "flex_flow": null,
            "grid_area": null,
            "grid_auto_columns": null,
            "grid_auto_flow": null,
            "grid_auto_rows": null,
            "grid_column": null,
            "grid_gap": null,
            "grid_row": null,
            "grid_template_areas": null,
            "grid_template_columns": null,
            "grid_template_rows": null,
            "height": null,
            "justify_content": null,
            "justify_items": null,
            "left": null,
            "margin": null,
            "max_height": null,
            "max_width": null,
            "min_height": null,
            "min_width": null,
            "object_fit": null,
            "object_position": null,
            "order": null,
            "overflow": null,
            "overflow_x": null,
            "overflow_y": null,
            "padding": null,
            "right": null,
            "top": null,
            "visibility": null,
            "width": null
          }
        },
        "776877daa379483c9ac886463ade9ef1": {
          "model_module": "@jupyter-widgets/base",
          "model_module_version": "1.2.0",
          "model_name": "LayoutModel",
          "state": {
            "_model_module": "@jupyter-widgets/base",
            "_model_module_version": "1.2.0",
            "_model_name": "LayoutModel",
            "_view_count": null,
            "_view_module": "@jupyter-widgets/base",
            "_view_module_version": "1.2.0",
            "_view_name": "LayoutView",
            "align_content": null,
            "align_items": null,
            "align_self": null,
            "border": null,
            "bottom": null,
            "display": null,
            "flex": null,
            "flex_flow": null,
            "grid_area": null,
            "grid_auto_columns": null,
            "grid_auto_flow": null,
            "grid_auto_rows": null,
            "grid_column": null,
            "grid_gap": null,
            "grid_row": null,
            "grid_template_areas": null,
            "grid_template_columns": null,
            "grid_template_rows": null,
            "height": null,
            "justify_content": null,
            "justify_items": null,
            "left": null,
            "margin": null,
            "max_height": null,
            "max_width": null,
            "min_height": null,
            "min_width": null,
            "object_fit": null,
            "object_position": null,
            "order": null,
            "overflow": null,
            "overflow_x": null,
            "overflow_y": null,
            "padding": null,
            "right": null,
            "top": null,
            "visibility": null,
            "width": null
          }
        },
        "77b4f9f6b33c4854ba200ca7da02ca3d": {
          "model_module": "@jupyter-widgets/base",
          "model_module_version": "1.2.0",
          "model_name": "LayoutModel",
          "state": {
            "_model_module": "@jupyter-widgets/base",
            "_model_module_version": "1.2.0",
            "_model_name": "LayoutModel",
            "_view_count": null,
            "_view_module": "@jupyter-widgets/base",
            "_view_module_version": "1.2.0",
            "_view_name": "LayoutView",
            "align_content": null,
            "align_items": null,
            "align_self": null,
            "border": null,
            "bottom": null,
            "display": null,
            "flex": null,
            "flex_flow": null,
            "grid_area": null,
            "grid_auto_columns": null,
            "grid_auto_flow": null,
            "grid_auto_rows": null,
            "grid_column": null,
            "grid_gap": null,
            "grid_row": null,
            "grid_template_areas": null,
            "grid_template_columns": null,
            "grid_template_rows": null,
            "height": null,
            "justify_content": null,
            "justify_items": null,
            "left": null,
            "margin": null,
            "max_height": null,
            "max_width": null,
            "min_height": null,
            "min_width": null,
            "object_fit": null,
            "object_position": null,
            "order": null,
            "overflow": null,
            "overflow_x": null,
            "overflow_y": null,
            "padding": null,
            "right": null,
            "top": null,
            "visibility": null,
            "width": null
          }
        },
        "801452c300a4414ebe70e95cd0b197a9": {
          "model_module": "@jupyter-widgets/controls",
          "model_module_version": "1.5.0",
          "model_name": "HBoxModel",
          "state": {
            "_dom_classes": [],
            "_model_module": "@jupyter-widgets/controls",
            "_model_module_version": "1.5.0",
            "_model_name": "HBoxModel",
            "_view_count": null,
            "_view_module": "@jupyter-widgets/controls",
            "_view_module_version": "1.5.0",
            "_view_name": "HBoxView",
            "box_style": "",
            "children": [
              "IPY_MODEL_c272729b1f674ce39fa31a8e519e0422",
              "IPY_MODEL_c4412957797042deb9717ce27c48ec5a",
              "IPY_MODEL_25c8badfbdc84e14a0078cef0b46ba1c"
            ],
            "layout": "IPY_MODEL_1bd6bf85a9864a229b49da7800a4280a"
          }
        },
        "85fa1b16494848b3afca6403c93b6e20": {
          "model_module": "@jupyter-widgets/controls",
          "model_module_version": "1.5.0",
          "model_name": "HTMLModel",
          "state": {
            "_dom_classes": [],
            "_model_module": "@jupyter-widgets/controls",
            "_model_module_version": "1.5.0",
            "_model_name": "HTMLModel",
            "_view_count": null,
            "_view_module": "@jupyter-widgets/controls",
            "_view_module_version": "1.5.0",
            "_view_name": "HTMLView",
            "description": "",
            "description_tooltip": null,
            "layout": "IPY_MODEL_6fdfc13374e848c5a5e2c9c4f00c736c",
            "placeholder": "​",
            "style": "IPY_MODEL_c3b4c3a495a0422980b53e7067f85dd0",
            "value": "model_head.pkl: 100%"
          }
        },
        "89dae6f4e68e4a5699be320eac3c5643": {
          "model_module": "@jupyter-widgets/controls",
          "model_module_version": "1.5.0",
          "model_name": "ProgressStyleModel",
          "state": {
            "_model_module": "@jupyter-widgets/controls",
            "_model_module_version": "1.5.0",
            "_model_name": "ProgressStyleModel",
            "_view_count": null,
            "_view_module": "@jupyter-widgets/base",
            "_view_module_version": "1.2.0",
            "_view_name": "StyleView",
            "bar_color": null,
            "description_width": ""
          }
        },
        "933a66273ae441a18d373e2901561669": {
          "model_module": "@jupyter-widgets/controls",
          "model_module_version": "1.5.0",
          "model_name": "ProgressStyleModel",
          "state": {
            "_model_module": "@jupyter-widgets/controls",
            "_model_module_version": "1.5.0",
            "_model_name": "ProgressStyleModel",
            "_view_count": null,
            "_view_module": "@jupyter-widgets/base",
            "_view_module_version": "1.2.0",
            "_view_name": "StyleView",
            "bar_color": null,
            "description_width": ""
          }
        },
        "93a4b5b786054689b4584afe4602f334": {
          "model_module": "@jupyter-widgets/base",
          "model_module_version": "1.2.0",
          "model_name": "LayoutModel",
          "state": {
            "_model_module": "@jupyter-widgets/base",
            "_model_module_version": "1.2.0",
            "_model_name": "LayoutModel",
            "_view_count": null,
            "_view_module": "@jupyter-widgets/base",
            "_view_module_version": "1.2.0",
            "_view_name": "LayoutView",
            "align_content": null,
            "align_items": null,
            "align_self": null,
            "border": null,
            "bottom": null,
            "display": null,
            "flex": null,
            "flex_flow": null,
            "grid_area": null,
            "grid_auto_columns": null,
            "grid_auto_flow": null,
            "grid_auto_rows": null,
            "grid_column": null,
            "grid_gap": null,
            "grid_row": null,
            "grid_template_areas": null,
            "grid_template_columns": null,
            "grid_template_rows": null,
            "height": null,
            "justify_content": null,
            "justify_items": null,
            "left": null,
            "margin": null,
            "max_height": null,
            "max_width": null,
            "min_height": null,
            "min_width": null,
            "object_fit": null,
            "object_position": null,
            "order": null,
            "overflow": null,
            "overflow_x": null,
            "overflow_y": null,
            "padding": null,
            "right": null,
            "top": null,
            "visibility": null,
            "width": null
          }
        },
        "99cbb0617f674b4989a82adfbcc442e1": {
          "model_module": "@jupyter-widgets/controls",
          "model_module_version": "1.5.0",
          "model_name": "DescriptionStyleModel",
          "state": {
            "_model_module": "@jupyter-widgets/controls",
            "_model_module_version": "1.5.0",
            "_model_name": "DescriptionStyleModel",
            "_view_count": null,
            "_view_module": "@jupyter-widgets/base",
            "_view_module_version": "1.2.0",
            "_view_name": "StyleView",
            "description_width": ""
          }
        },
        "9a96cebd64c24594be70c95a4938cc3b": {
          "model_module": "@jupyter-widgets/controls",
          "model_module_version": "1.5.0",
          "model_name": "HBoxModel",
          "state": {
            "_dom_classes": [],
            "_model_module": "@jupyter-widgets/controls",
            "_model_module_version": "1.5.0",
            "_model_name": "HBoxModel",
            "_view_count": null,
            "_view_module": "@jupyter-widgets/controls",
            "_view_module_version": "1.5.0",
            "_view_name": "HBoxView",
            "box_style": "",
            "children": [
              "IPY_MODEL_2c4a1726e85445089dbe60963ec6a436",
              "IPY_MODEL_4bef206229a74b9f9fa60676f78d0a3d",
              "IPY_MODEL_e8127454d5e14c8f861aefb44b795792"
            ],
            "layout": "IPY_MODEL_ef3b24b041464590a231d9eb527f9376"
          }
        },
        "9d735663a4be48fbb905a3236d3b4aca": {
          "model_module": "@jupyter-widgets/controls",
          "model_module_version": "1.5.0",
          "model_name": "HBoxModel",
          "state": {
            "_dom_classes": [],
            "_model_module": "@jupyter-widgets/controls",
            "_model_module_version": "1.5.0",
            "_model_name": "HBoxModel",
            "_view_count": null,
            "_view_module": "@jupyter-widgets/controls",
            "_view_module_version": "1.5.0",
            "_view_name": "HBoxView",
            "box_style": "",
            "children": [
              "IPY_MODEL_31f354eff1604a2b86f673673deff0e2",
              "IPY_MODEL_511c9e300511410c8deeb0bc78b14e5c",
              "IPY_MODEL_598c1ceb890f45d1aee344c21c59df29"
            ],
            "layout": "IPY_MODEL_f40406df8c22425ab7ec6b0020c42895"
          }
        },
        "a5e6f07496fb42ab86e1547c74dda476": {
          "model_module": "@jupyter-widgets/base",
          "model_module_version": "1.2.0",
          "model_name": "LayoutModel",
          "state": {
            "_model_module": "@jupyter-widgets/base",
            "_model_module_version": "1.2.0",
            "_model_name": "LayoutModel",
            "_view_count": null,
            "_view_module": "@jupyter-widgets/base",
            "_view_module_version": "1.2.0",
            "_view_name": "LayoutView",
            "align_content": null,
            "align_items": null,
            "align_self": null,
            "border": null,
            "bottom": null,
            "display": null,
            "flex": null,
            "flex_flow": null,
            "grid_area": null,
            "grid_auto_columns": null,
            "grid_auto_flow": null,
            "grid_auto_rows": null,
            "grid_column": null,
            "grid_gap": null,
            "grid_row": null,
            "grid_template_areas": null,
            "grid_template_columns": null,
            "grid_template_rows": null,
            "height": null,
            "justify_content": null,
            "justify_items": null,
            "left": null,
            "margin": null,
            "max_height": null,
            "max_width": null,
            "min_height": null,
            "min_width": null,
            "object_fit": null,
            "object_position": null,
            "order": null,
            "overflow": null,
            "overflow_x": null,
            "overflow_y": null,
            "padding": null,
            "right": null,
            "top": null,
            "visibility": null,
            "width": null
          }
        },
        "a6434199c21244278566266d48a3e057": {
          "model_module": "@jupyter-widgets/base",
          "model_module_version": "1.2.0",
          "model_name": "LayoutModel",
          "state": {
            "_model_module": "@jupyter-widgets/base",
            "_model_module_version": "1.2.0",
            "_model_name": "LayoutModel",
            "_view_count": null,
            "_view_module": "@jupyter-widgets/base",
            "_view_module_version": "1.2.0",
            "_view_name": "LayoutView",
            "align_content": null,
            "align_items": null,
            "align_self": null,
            "border": null,
            "bottom": null,
            "display": null,
            "flex": null,
            "flex_flow": null,
            "grid_area": null,
            "grid_auto_columns": null,
            "grid_auto_flow": null,
            "grid_auto_rows": null,
            "grid_column": null,
            "grid_gap": null,
            "grid_row": null,
            "grid_template_areas": null,
            "grid_template_columns": null,
            "grid_template_rows": null,
            "height": null,
            "justify_content": null,
            "justify_items": null,
            "left": null,
            "margin": null,
            "max_height": null,
            "max_width": null,
            "min_height": null,
            "min_width": null,
            "object_fit": null,
            "object_position": null,
            "order": null,
            "overflow": null,
            "overflow_x": null,
            "overflow_y": null,
            "padding": null,
            "right": null,
            "top": null,
            "visibility": null,
            "width": null
          }
        },
        "b6f5ec6d1ff4418d81de083f7940773b": {
          "model_module": "@jupyter-widgets/controls",
          "model_module_version": "1.5.0",
          "model_name": "HTMLModel",
          "state": {
            "_dom_classes": [],
            "_model_module": "@jupyter-widgets/controls",
            "_model_module_version": "1.5.0",
            "_model_name": "HTMLModel",
            "_view_count": null,
            "_view_module": "@jupyter-widgets/controls",
            "_view_module_version": "1.5.0",
            "_view_name": "HTMLView",
            "description": "",
            "description_tooltip": null,
            "layout": "IPY_MODEL_776877daa379483c9ac886463ade9ef1",
            "placeholder": "​",
            "style": "IPY_MODEL_f18982fe14084065ae4b3d5db9d977f9",
            "value": " 14.8M/14.8M [00:02&lt;00:00, 10.0MB/s]"
          }
        },
        "bbdc6239ae984237bb660254c40c8c52": {
          "model_module": "@jupyter-widgets/base",
          "model_module_version": "1.2.0",
          "model_name": "LayoutModel",
          "state": {
            "_model_module": "@jupyter-widgets/base",
            "_model_module_version": "1.2.0",
            "_model_name": "LayoutModel",
            "_view_count": null,
            "_view_module": "@jupyter-widgets/base",
            "_view_module_version": "1.2.0",
            "_view_name": "LayoutView",
            "align_content": null,
            "align_items": null,
            "align_self": null,
            "border": null,
            "bottom": null,
            "display": null,
            "flex": null,
            "flex_flow": null,
            "grid_area": null,
            "grid_auto_columns": null,
            "grid_auto_flow": null,
            "grid_auto_rows": null,
            "grid_column": null,
            "grid_gap": null,
            "grid_row": null,
            "grid_template_areas": null,
            "grid_template_columns": null,
            "grid_template_rows": null,
            "height": null,
            "justify_content": null,
            "justify_items": null,
            "left": null,
            "margin": null,
            "max_height": null,
            "max_width": null,
            "min_height": null,
            "min_width": null,
            "object_fit": null,
            "object_position": null,
            "order": null,
            "overflow": null,
            "overflow_x": null,
            "overflow_y": null,
            "padding": null,
            "right": null,
            "top": null,
            "visibility": null,
            "width": null
          }
        },
        "be746b6c942440c4a93731d931f29f21": {
          "model_module": "@jupyter-widgets/controls",
          "model_module_version": "1.5.0",
          "model_name": "DescriptionStyleModel",
          "state": {
            "_model_module": "@jupyter-widgets/controls",
            "_model_module_version": "1.5.0",
            "_model_name": "DescriptionStyleModel",
            "_view_count": null,
            "_view_module": "@jupyter-widgets/base",
            "_view_module_version": "1.2.0",
            "_view_name": "StyleView",
            "description_width": ""
          }
        },
        "c272729b1f674ce39fa31a8e519e0422": {
          "model_module": "@jupyter-widgets/controls",
          "model_module_version": "1.5.0",
          "model_name": "HTMLModel",
          "state": {
            "_dom_classes": [],
            "_model_module": "@jupyter-widgets/controls",
            "_model_module_version": "1.5.0",
            "_model_name": "HTMLModel",
            "_view_count": null,
            "_view_module": "@jupyter-widgets/controls",
            "_view_module_version": "1.5.0",
            "_view_name": "HTMLView",
            "description": "",
            "description_tooltip": null,
            "layout": "IPY_MODEL_5da08c1b5cde43a48b458c718626eda4",
            "placeholder": "​",
            "style": "IPY_MODEL_be746b6c942440c4a93731d931f29f21",
            "value": "Downloading builder script: 100%"
          }
        },
        "c3b4c3a495a0422980b53e7067f85dd0": {
          "model_module": "@jupyter-widgets/controls",
          "model_module_version": "1.5.0",
          "model_name": "DescriptionStyleModel",
          "state": {
            "_model_module": "@jupyter-widgets/controls",
            "_model_module_version": "1.5.0",
            "_model_name": "DescriptionStyleModel",
            "_view_count": null,
            "_view_module": "@jupyter-widgets/base",
            "_view_module_version": "1.2.0",
            "_view_name": "StyleView",
            "description_width": ""
          }
        },
        "c4412957797042deb9717ce27c48ec5a": {
          "model_module": "@jupyter-widgets/controls",
          "model_module_version": "1.5.0",
          "model_name": "FloatProgressModel",
          "state": {
            "_dom_classes": [],
            "_model_module": "@jupyter-widgets/controls",
            "_model_module_version": "1.5.0",
            "_model_name": "FloatProgressModel",
            "_view_count": null,
            "_view_module": "@jupyter-widgets/controls",
            "_view_module_version": "1.5.0",
            "_view_name": "ProgressView",
            "bar_style": "success",
            "description": "",
            "description_tooltip": null,
            "layout": "IPY_MODEL_10651b1083d4441fa16fe4a6f4bd830c",
            "max": 4203,
            "min": 0,
            "orientation": "horizontal",
            "style": "IPY_MODEL_89dae6f4e68e4a5699be320eac3c5643",
            "value": 4203
          }
        },
        "c90ef87fb13c4984ae10d951e1292a90": {
          "model_module": "@jupyter-widgets/controls",
          "model_module_version": "1.5.0",
          "model_name": "DescriptionStyleModel",
          "state": {
            "_model_module": "@jupyter-widgets/controls",
            "_model_module_version": "1.5.0",
            "_model_name": "DescriptionStyleModel",
            "_view_count": null,
            "_view_module": "@jupyter-widgets/base",
            "_view_module_version": "1.2.0",
            "_view_name": "StyleView",
            "description_width": ""
          }
        },
        "c9a877ead28c4d259a8928770256be31": {
          "model_module": "@jupyter-widgets/base",
          "model_module_version": "1.2.0",
          "model_name": "LayoutModel",
          "state": {
            "_model_module": "@jupyter-widgets/base",
            "_model_module_version": "1.2.0",
            "_model_name": "LayoutModel",
            "_view_count": null,
            "_view_module": "@jupyter-widgets/base",
            "_view_module_version": "1.2.0",
            "_view_name": "LayoutView",
            "align_content": null,
            "align_items": null,
            "align_self": null,
            "border": null,
            "bottom": null,
            "display": null,
            "flex": null,
            "flex_flow": null,
            "grid_area": null,
            "grid_auto_columns": null,
            "grid_auto_flow": null,
            "grid_auto_rows": null,
            "grid_column": null,
            "grid_gap": null,
            "grid_row": null,
            "grid_template_areas": null,
            "grid_template_columns": null,
            "grid_template_rows": null,
            "height": null,
            "justify_content": null,
            "justify_items": null,
            "left": null,
            "margin": null,
            "max_height": null,
            "max_width": null,
            "min_height": null,
            "min_width": null,
            "object_fit": null,
            "object_position": null,
            "order": null,
            "overflow": null,
            "overflow_x": null,
            "overflow_y": null,
            "padding": null,
            "right": null,
            "top": null,
            "visibility": null,
            "width": null
          }
        },
        "ca0c8d9cccad4c0197e394a3972b9cad": {
          "model_module": "@jupyter-widgets/base",
          "model_module_version": "1.2.0",
          "model_name": "LayoutModel",
          "state": {
            "_model_module": "@jupyter-widgets/base",
            "_model_module_version": "1.2.0",
            "_model_name": "LayoutModel",
            "_view_count": null,
            "_view_module": "@jupyter-widgets/base",
            "_view_module_version": "1.2.0",
            "_view_name": "LayoutView",
            "align_content": null,
            "align_items": null,
            "align_self": null,
            "border": null,
            "bottom": null,
            "display": null,
            "flex": null,
            "flex_flow": null,
            "grid_area": null,
            "grid_auto_columns": null,
            "grid_auto_flow": null,
            "grid_auto_rows": null,
            "grid_column": null,
            "grid_gap": null,
            "grid_row": null,
            "grid_template_areas": null,
            "grid_template_columns": null,
            "grid_template_rows": null,
            "height": null,
            "justify_content": null,
            "justify_items": null,
            "left": null,
            "margin": null,
            "max_height": null,
            "max_width": null,
            "min_height": null,
            "min_width": null,
            "object_fit": null,
            "object_position": null,
            "order": null,
            "overflow": null,
            "overflow_x": null,
            "overflow_y": null,
            "padding": null,
            "right": null,
            "top": null,
            "visibility": null,
            "width": null
          }
        },
        "ca6ac328674d4390a31c1918bf35ca80": {
          "model_module": "@jupyter-widgets/controls",
          "model_module_version": "1.5.0",
          "model_name": "HBoxModel",
          "state": {
            "_dom_classes": [],
            "_model_module": "@jupyter-widgets/controls",
            "_model_module_version": "1.5.0",
            "_model_name": "HBoxModel",
            "_view_count": null,
            "_view_module": "@jupyter-widgets/controls",
            "_view_module_version": "1.5.0",
            "_view_name": "HBoxView",
            "box_style": "",
            "children": [
              "IPY_MODEL_5fecd52a390548699994b63b6be01d94",
              "IPY_MODEL_0d8e00860f704ad089834f9eb0a1eb02",
              "IPY_MODEL_e701b9531cd342e189450c3757947044"
            ],
            "layout": "IPY_MODEL_ca0c8d9cccad4c0197e394a3972b9cad"
          }
        },
        "d1ffbbbeeabe433eafe8027f272f66ae": {
          "model_module": "@jupyter-widgets/controls",
          "model_module_version": "1.5.0",
          "model_name": "DescriptionStyleModel",
          "state": {
            "_model_module": "@jupyter-widgets/controls",
            "_model_module_version": "1.5.0",
            "_model_name": "DescriptionStyleModel",
            "_view_count": null,
            "_view_module": "@jupyter-widgets/base",
            "_view_module_version": "1.2.0",
            "_view_name": "StyleView",
            "description_width": ""
          }
        },
        "d2a7a225b25d4e19a98967033419c7bc": {
          "model_module": "@jupyter-widgets/base",
          "model_module_version": "1.2.0",
          "model_name": "LayoutModel",
          "state": {
            "_model_module": "@jupyter-widgets/base",
            "_model_module_version": "1.2.0",
            "_model_name": "LayoutModel",
            "_view_count": null,
            "_view_module": "@jupyter-widgets/base",
            "_view_module_version": "1.2.0",
            "_view_name": "LayoutView",
            "align_content": null,
            "align_items": null,
            "align_self": null,
            "border": null,
            "bottom": null,
            "display": null,
            "flex": null,
            "flex_flow": null,
            "grid_area": null,
            "grid_auto_columns": null,
            "grid_auto_flow": null,
            "grid_auto_rows": null,
            "grid_column": null,
            "grid_gap": null,
            "grid_row": null,
            "grid_template_areas": null,
            "grid_template_columns": null,
            "grid_template_rows": null,
            "height": null,
            "justify_content": null,
            "justify_items": null,
            "left": null,
            "margin": null,
            "max_height": null,
            "max_width": null,
            "min_height": null,
            "min_width": null,
            "object_fit": null,
            "object_position": null,
            "order": null,
            "overflow": null,
            "overflow_x": null,
            "overflow_y": null,
            "padding": null,
            "right": null,
            "top": null,
            "visibility": null,
            "width": null
          }
        },
        "d43302a562bb4ce0b88f3ef859f6fad5": {
          "model_module": "@jupyter-widgets/controls",
          "model_module_version": "1.5.0",
          "model_name": "DescriptionStyleModel",
          "state": {
            "_model_module": "@jupyter-widgets/controls",
            "_model_module_version": "1.5.0",
            "_model_name": "DescriptionStyleModel",
            "_view_count": null,
            "_view_module": "@jupyter-widgets/base",
            "_view_module_version": "1.2.0",
            "_view_name": "StyleView",
            "description_width": ""
          }
        },
        "e13c9547629a446e9e732a89fca5c2ef": {
          "model_module": "@jupyter-widgets/controls",
          "model_module_version": "1.5.0",
          "model_name": "ProgressStyleModel",
          "state": {
            "_model_module": "@jupyter-widgets/controls",
            "_model_module_version": "1.5.0",
            "_model_name": "ProgressStyleModel",
            "_view_count": null,
            "_view_module": "@jupyter-widgets/base",
            "_view_module_version": "1.2.0",
            "_view_name": "StyleView",
            "bar_color": null,
            "description_width": ""
          }
        },
        "e42556207c924822b87db2f616c38914": {
          "model_module": "@jupyter-widgets/controls",
          "model_module_version": "1.5.0",
          "model_name": "ProgressStyleModel",
          "state": {
            "_model_module": "@jupyter-widgets/controls",
            "_model_module_version": "1.5.0",
            "_model_name": "ProgressStyleModel",
            "_view_count": null,
            "_view_module": "@jupyter-widgets/base",
            "_view_module_version": "1.2.0",
            "_view_name": "StyleView",
            "bar_color": null,
            "description_width": ""
          }
        },
        "e701b9531cd342e189450c3757947044": {
          "model_module": "@jupyter-widgets/controls",
          "model_module_version": "1.5.0",
          "model_name": "HTMLModel",
          "state": {
            "_dom_classes": [],
            "_model_module": "@jupyter-widgets/controls",
            "_model_module_version": "1.5.0",
            "_model_name": "HTMLModel",
            "_view_count": null,
            "_view_module": "@jupyter-widgets/controls",
            "_view_module_version": "1.5.0",
            "_view_name": "HTMLView",
            "description": "",
            "description_tooltip": null,
            "layout": "IPY_MODEL_0ddbd5c6105a413692f1dffe4a50a113",
            "placeholder": "​",
            "style": "IPY_MODEL_c90ef87fb13c4984ae10d951e1292a90",
            "value": " 17.1M/17.1M [00:03&lt;00:00, 19.9MB/s]"
          }
        },
        "e7f1bcac4a244b3d8581ca0fbb15de2f": {
          "model_module": "@jupyter-widgets/controls",
          "model_module_version": "1.5.0",
          "model_name": "HTMLModel",
          "state": {
            "_dom_classes": [],
            "_model_module": "@jupyter-widgets/controls",
            "_model_module_version": "1.5.0",
            "_model_name": "HTMLModel",
            "_view_count": null,
            "_view_module": "@jupyter-widgets/controls",
            "_view_module_version": "1.5.0",
            "_view_name": "HTMLView",
            "description": "",
            "description_tooltip": null,
            "layout": "IPY_MODEL_93a4b5b786054689b4584afe4602f334",
            "placeholder": "​",
            "style": "IPY_MODEL_99cbb0617f674b4989a82adfbcc442e1",
            "value": "unigram.json: 100%"
          }
        },
        "e8127454d5e14c8f861aefb44b795792": {
          "model_module": "@jupyter-widgets/controls",
          "model_module_version": "1.5.0",
          "model_name": "HTMLModel",
          "state": {
            "_dom_classes": [],
            "_model_module": "@jupyter-widgets/controls",
            "_model_module_version": "1.5.0",
            "_model_name": "HTMLModel",
            "_view_count": null,
            "_view_module": "@jupyter-widgets/controls",
            "_view_module_version": "1.5.0",
            "_view_name": "HTMLView",
            "description": "",
            "description_tooltip": null,
            "layout": "IPY_MODEL_a5e6f07496fb42ab86e1547c74dda476",
            "placeholder": "​",
            "style": "IPY_MODEL_5302bd2c8b7f4b05aa54510d61cebc6a",
            "value": " 471M/471M [00:29&lt;00:00, 22.8MB/s]"
          }
        },
        "ef3b24b041464590a231d9eb527f9376": {
          "model_module": "@jupyter-widgets/base",
          "model_module_version": "1.2.0",
          "model_name": "LayoutModel",
          "state": {
            "_model_module": "@jupyter-widgets/base",
            "_model_module_version": "1.2.0",
            "_model_name": "LayoutModel",
            "_view_count": null,
            "_view_module": "@jupyter-widgets/base",
            "_view_module_version": "1.2.0",
            "_view_name": "LayoutView",
            "align_content": null,
            "align_items": null,
            "align_self": null,
            "border": null,
            "bottom": null,
            "display": null,
            "flex": null,
            "flex_flow": null,
            "grid_area": null,
            "grid_auto_columns": null,
            "grid_auto_flow": null,
            "grid_auto_rows": null,
            "grid_column": null,
            "grid_gap": null,
            "grid_row": null,
            "grid_template_areas": null,
            "grid_template_columns": null,
            "grid_template_rows": null,
            "height": null,
            "justify_content": null,
            "justify_items": null,
            "left": null,
            "margin": null,
            "max_height": null,
            "max_width": null,
            "min_height": null,
            "min_width": null,
            "object_fit": null,
            "object_position": null,
            "order": null,
            "overflow": null,
            "overflow_x": null,
            "overflow_y": null,
            "padding": null,
            "right": null,
            "top": null,
            "visibility": null,
            "width": null
          }
        },
        "f18982fe14084065ae4b3d5db9d977f9": {
          "model_module": "@jupyter-widgets/controls",
          "model_module_version": "1.5.0",
          "model_name": "DescriptionStyleModel",
          "state": {
            "_model_module": "@jupyter-widgets/controls",
            "_model_module_version": "1.5.0",
            "_model_name": "DescriptionStyleModel",
            "_view_count": null,
            "_view_module": "@jupyter-widgets/base",
            "_view_module_version": "1.2.0",
            "_view_name": "StyleView",
            "description_width": ""
          }
        },
        "f40406df8c22425ab7ec6b0020c42895": {
          "model_module": "@jupyter-widgets/base",
          "model_module_version": "1.2.0",
          "model_name": "LayoutModel",
          "state": {
            "_model_module": "@jupyter-widgets/base",
            "_model_module_version": "1.2.0",
            "_model_name": "LayoutModel",
            "_view_count": null,
            "_view_module": "@jupyter-widgets/base",
            "_view_module_version": "1.2.0",
            "_view_name": "LayoutView",
            "align_content": null,
            "align_items": null,
            "align_self": null,
            "border": null,
            "bottom": null,
            "display": null,
            "flex": null,
            "flex_flow": null,
            "grid_area": null,
            "grid_auto_columns": null,
            "grid_auto_flow": null,
            "grid_auto_rows": null,
            "grid_column": null,
            "grid_gap": null,
            "grid_row": null,
            "grid_template_areas": null,
            "grid_template_columns": null,
            "grid_template_rows": null,
            "height": null,
            "justify_content": null,
            "justify_items": null,
            "left": null,
            "margin": null,
            "max_height": null,
            "max_width": null,
            "min_height": null,
            "min_width": null,
            "object_fit": null,
            "object_position": null,
            "order": null,
            "overflow": null,
            "overflow_x": null,
            "overflow_y": null,
            "padding": null,
            "right": null,
            "top": null,
            "visibility": null,
            "width": null
          }
        },
        "fdaad9d3e8094fd38510f449d3f1914f": {
          "model_module": "@jupyter-widgets/base",
          "model_module_version": "1.2.0",
          "model_name": "LayoutModel",
          "state": {
            "_model_module": "@jupyter-widgets/base",
            "_model_module_version": "1.2.0",
            "_model_name": "LayoutModel",
            "_view_count": null,
            "_view_module": "@jupyter-widgets/base",
            "_view_module_version": "1.2.0",
            "_view_name": "LayoutView",
            "align_content": null,
            "align_items": null,
            "align_self": null,
            "border": null,
            "bottom": null,
            "display": null,
            "flex": null,
            "flex_flow": null,
            "grid_area": null,
            "grid_auto_columns": null,
            "grid_auto_flow": null,
            "grid_auto_rows": null,
            "grid_column": null,
            "grid_gap": null,
            "grid_row": null,
            "grid_template_areas": null,
            "grid_template_columns": null,
            "grid_template_rows": null,
            "height": null,
            "justify_content": null,
            "justify_items": null,
            "left": null,
            "margin": null,
            "max_height": null,
            "max_width": null,
            "min_height": null,
            "min_width": null,
            "object_fit": null,
            "object_position": null,
            "order": null,
            "overflow": null,
            "overflow_x": null,
            "overflow_y": null,
            "padding": null,
            "right": null,
            "top": null,
            "visibility": null,
            "width": null
          }
        }
      }
    }
  },
  "nbformat": 4,
  "nbformat_minor": 0
}
